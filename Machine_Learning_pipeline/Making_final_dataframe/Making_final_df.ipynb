{
 "cells": [
  {
   "cell_type": "markdown",
   "metadata": {},
   "source": [
    "# Making Final DataFrame\n",
    "In this notebook, I will present the pipeline that I made to make the dataframe used in the Deep/Machine Learning models.\n",
    "\n",
    "## Introduction\n",
    "This notebook is the source of the python version of the pipeline. This one is more complete, and it contains labelizing and making dummies. So if one does not really want to use this notebook for the whole process they can make the dataset using the python pipeline, then implement the last part of this piepline in the wy that they want."
   ]
  },
  {
   "cell_type": "code",
   "execution_count": null,
   "metadata": {},
   "outputs": [],
   "source": []
  }
 ],
 "metadata": {
  "language_info": {
   "name": "python"
  }
 },
 "nbformat": 4,
 "nbformat_minor": 2
}
